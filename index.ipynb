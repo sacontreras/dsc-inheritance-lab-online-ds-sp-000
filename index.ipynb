{
 "cells": [
  {
   "cell_type": "markdown",
   "metadata": {},
   "source": [
    "# Inheritance - Lab\n",
    "\n",
    "## Introduction\n",
    "\n",
    "In this lab, you'll use what you've learned about inheritance to model a zoo using superclasses, subclasses, and maybe even an abstract superclass!\n",
    "\n",
    "## Objectives\n",
    "\n",
    "In this lab you will: \n",
    "\n",
    "- Create a domain model using OOP \n",
    "- Use inheritance to write nonredundant code \n",
    "\n",
    "## Modeling a Zoo\n",
    "\n",
    "Consider the following scenario:  You've been hired by a zookeeper to build a program that keeps track of all the animals in the zoo.  This is a great opportunity to make use of inheritance and object-oriented programming!\n",
    "\n",
    "## Creating an Abstract Superclass\n",
    "\n",
    "Start by creating an abstract superclass, `Animal()`.  When your program is complete, all subclasses of `Animal()` will have the following attributes:\n",
    "\n",
    "* `name`, which is a string set at instantation time\n",
    "* `size`, which can be `'small'`, `'medium'`, `'large'`, or `'enormous'` \n",
    "* `weight`, which is an integer set at instantiation time \n",
    "* `species`, a string that tells us the species of the animal\n",
    "* `food_type`, which can be `'herbivore'`, `'carnivore'`, or `'omnivore'`\n",
    "* `nocturnal`, a boolean value that is `True` if the animal sleeps during the day, otherwise `False`\n",
    "\n",
    "They'll also have the following behaviors:\n",
    "\n",
    "* `sleep`, which prints a string saying if the animal sleeps during day or night\n",
    "* `eat`, which takes in the string `'plants'` or `'meat'`, and returns `'{animal name} the {animal species} thinks {food} is yummy!'` or `'I don't eat this!'` based on the animal's `food_type` attribute \n",
    "\n",
    "In the cell below, create an abstract superclass that meets these specifications.\n",
    "\n",
    "**_NOTE:_** For some attributes in an abstract superclass such as `size`, the initial value doesn't matter -- just make sure that you remember to override it in each of the subclasses!"
   ]
  },
  {
   "cell_type": "code",
   "execution_count": 1,
   "metadata": {},
   "outputs": [],
   "source": [
    "class Animal(object):\n",
    "    def __init__(self, name, weight):\n",
    "        self.name = name\n",
    "        self.size = None\n",
    "        self.weight = weight\n",
    "        self.species = None\n",
    "        self.food_type = None\n",
    "        self.nocturnal = False\n",
    "        self.animal_id = f\"{self.name} the {self.species}\"\n",
    "        \n",
    "    def sleep(self):\n",
    "        print(f\"{self.name} the {self.species} says: \\\"I sleep {'at night' if self.nocturnal==True else 'during the day'}.\\\"\")\n",
    "    \n",
    "    def eat(self, food):\n",
    "        s_eats_it = f\"{self.name} the {self.species} thinks {food} is yummy!\"\n",
    "        s_does_not_eat_it = f\"{self.name} the {self.species} says: \\\"I don't eat this!\\\"\"\n",
    "        if food=='plants':\n",
    "            return s_eats_it if self.food_type=='herbivore' or self.food_type=='omnivore' else s_does_not_eat_it\n",
    "        elif food=='meat':\n",
    "            return s_eats_it if self.food_type=='carnivore' or self.food_type=='omnivore' else s_does_not_eat_it\n",
    "        else:\n",
    "            return s_does_not_eat_it"
   ]
  },
  {
   "cell_type": "markdown",
   "metadata": {},
   "source": [
    "Great! Now that you have our abstract superclass, you can begin building out the specific animal classes.\n",
    "\n",
    "In the cell below, complete the `Elephant()` class.  This class should:\n",
    "\n",
    "* subclass `Animal` \n",
    "* have a species of `'elephant'` \n",
    "* have a size of `'enormous'` \n",
    "* have a food type of `'herbivore'` \n",
    "* set nocturnal to `False` \n",
    "\n",
    "**_Hint:_** Remember to make use of `.super()` during initialization, and be sure to pass in the values it expects at instantiation time!"
   ]
  },
  {
   "cell_type": "code",
   "execution_count": 2,
   "metadata": {},
   "outputs": [],
   "source": [
    "class Elephant(Animal):\n",
    "    def __init__(self, name, weight):\n",
    "        super().__init__(name, weight)\n",
    "        self.size = 'enormous'\n",
    "        self.species = 'elephant'\n",
    "        self.food_type = 'herbivore'\n",
    "        #nocturnal set to False by default in super"
   ]
  },
  {
   "cell_type": "markdown",
   "metadata": {},
   "source": [
    "Great! Now, in the cell below, create a `Tiger()` class.  This class should: \n",
    "\n",
    "* subclass `Animal` \n",
    "* have a species of `'tiger'` \n",
    "* have a size of `'large'` \n",
    "* have a food type of `'carnivore'` \n",
    "* set nocturnal to `True` "
   ]
  },
  {
   "cell_type": "code",
   "execution_count": 3,
   "metadata": {},
   "outputs": [],
   "source": [
    "class Tiger(Animal):\n",
    "    def __init__(self, name, weight):\n",
    "        super().__init__(name, weight)\n",
    "        self.size = 'large'\n",
    "        self.species = 'tiger'\n",
    "        self.food_type = 'carnivore'\n",
    "        self.nocturnal = True"
   ]
  },
  {
   "cell_type": "markdown",
   "metadata": {},
   "source": [
    "Great! Two more classes to go. In the cell below, create a `Raccoon()` class. This class should:\n",
    "\n",
    "* subclass `Animal` \n",
    "* have a species of `raccoon` \n",
    "* have a size of `'small'` \n",
    "* have a food type of `'omnivore'` \n",
    "* set nocturnal to `True` "
   ]
  },
  {
   "cell_type": "code",
   "execution_count": 4,
   "metadata": {},
   "outputs": [],
   "source": [
    "class Raccoon(Animal):\n",
    "    def __init__(self, name, weight):\n",
    "        super().__init__(name, weight)\n",
    "        self.size = 'small'\n",
    "        self.species = 'raccoon'\n",
    "        self.food_type = 'omnivore'\n",
    "        self.nocturnal = True"
   ]
  },
  {
   "cell_type": "markdown",
   "metadata": {},
   "source": [
    "Finally, create a `Gorilla()` class. This class should:\n",
    "\n",
    "* subclass `Animal` \n",
    "* have a species of `gorilla` \n",
    "* have a size of `'large'` \n",
    "* have a food type of `'herbivore'` \n",
    "* set nocturnal to `False` "
   ]
  },
  {
   "cell_type": "code",
   "execution_count": 5,
   "metadata": {},
   "outputs": [],
   "source": [
    "class Gorilla(Animal):\n",
    "    def __init__(self, name, weight):\n",
    "        super().__init__(name, weight)\n",
    "        self.name = \"Precious\"\n",
    "        self.size = 'large'\n",
    "        self.weight = 420\n",
    "        self.species = 'gorilla'\n",
    "        self.food_type = 'herbivore'"
   ]
  },
  {
   "cell_type": "markdown",
   "metadata": {},
   "source": [
    "## Using Our Objects\n",
    "\n",
    "Now it's time to populate the zoo! To ease the creation of animal instances, create a function `add_animal_to_zoo()`.\n",
    "\n",
    "This function should take in the following parameters:\n",
    "\n",
    "* `zoo`, an array representing the current state of the zoo \n",
    "* `animal_type`, a string.  Can be `'Gorilla'`, `'Raccoon'`, `'Tiger'`, or `'Elephant'` \n",
    "* `name`, the name of the animal being created \n",
    "* `weight`, the weight of the animal being created \n",
    "\n",
    "The function should then:\n",
    "\n",
    "* use `animal_type` to determine which object to create\n",
    "* Create an instance of that animal, passing in the `name` and `weight`\n",
    "* Append the newly created animal to `zoo`\n",
    "* Return `zoo`"
   ]
  },
  {
   "cell_type": "code",
   "execution_count": 6,
   "metadata": {},
   "outputs": [],
   "source": [
    "def add_animal_to_zoo(zoo, animal_type, name, weight):\n",
    "    new_animal = None\n",
    "    if animal_type=='Gorilla':\n",
    "        new_animal = Gorilla(name, weight)\n",
    "    elif animal_type=='Raccoon':\n",
    "        new_animal = Raccoon(name, weight)\n",
    "    elif animal_type=='Tiger':\n",
    "        new_animal = Tiger(name, weight)\n",
    "    elif animal_type=='Elephant':\n",
    "        new_animal = Elephant(name, weight)\n",
    "    if new_animal is None:\n",
    "        print(f\"Sorry! The zoo does not except animals of type {animal_type}.\")\n",
    "    else:\n",
    "        zoo.append(new_animal)\n",
    "        print(f\"Added {new_animal.name} the {new_animal.species} to the zoo!\")\n",
    "    \n",
    "    return zoo"
   ]
  },
  {
   "cell_type": "markdown",
   "metadata": {},
   "source": [
    "Great! Now, add some animals to your zoo. \n",
    "\n",
    "Create the following animals and add them to your zoo.  The names and weights are up to you.\n",
    "\n",
    "* 2 Elephants\n",
    "* 2 Raccons\n",
    "* 1 Gorilla\n",
    "* 3 Tigers"
   ]
  },
  {
   "cell_type": "code",
   "execution_count": 7,
   "metadata": {},
   "outputs": [
    {
     "name": "stdout",
     "output_type": "stream",
     "text": [
      "Added Biggy Smalls the elephant to the zoo!\n",
      "Added Little Biggy the elephant to the zoo!\n",
      "Added Mr. Restless the raccoon to the zoo!\n",
      "Added The Spaz the raccoon to the zoo!\n",
      "Added Precious the gorilla to the zoo!\n",
      "Added Tony the tiger to the zoo!\n",
      "Added Shere Khan the tiger to the zoo!\n",
      "Added Pepper the tiger to the zoo!\n"
     ]
    },
    {
     "data": {
      "text/plain": [
       "[<__main__.Elephant at 0x11100e2b0>,\n",
       " <__main__.Elephant at 0x11100ee10>,\n",
       " <__main__.Raccoon at 0x11100eda0>,\n",
       " <__main__.Raccoon at 0x11100eef0>,\n",
       " <__main__.Gorilla at 0x11100ef60>,\n",
       " <__main__.Tiger at 0x11100ef98>,\n",
       " <__main__.Tiger at 0x11100efd0>,\n",
       " <__main__.Tiger at 0x11100eeb8>]"
      ]
     },
     "execution_count": 7,
     "metadata": {},
     "output_type": "execute_result"
    }
   ],
   "source": [
    "# Create your animals and add them to the 'zoo' in this cell!\n",
    "zoo = []\n",
    "add_animal_to_zoo(zoo, 'Elephant', 'Biggy Smalls', 1113)\n",
    "add_animal_to_zoo(zoo, 'Elephant', 'Little Biggy', 933)\n",
    "add_animal_to_zoo(zoo, 'Raccoon', 'Mr. Restless', 28)\n",
    "add_animal_to_zoo(zoo, 'Raccoon', 'The Spaz', 24)\n",
    "add_animal_to_zoo(zoo, 'Gorilla', 'Precious', 392)\n",
    "add_animal_to_zoo(zoo, 'Tiger', 'Tony', 368)\n",
    "add_animal_to_zoo(zoo, 'Tiger', 'Shere Khan', 393)\n",
    "add_animal_to_zoo(zoo, 'Tiger', 'Pepper', 297)"
   ]
  },
  {
   "cell_type": "markdown",
   "metadata": {},
   "source": [
    "Great! Now that you have a populated zoo, you can do what the zookeeper hired you to do -- write a program that feeds the correct animals the right food at the right times!\n",
    "\n",
    "To do this, write a function called `feed_animals()`. This function should take in two arguments:\n",
    "\n",
    "* `zoo`, the zoo array containing all the animals\n",
    "* `time`, which can be `'Day'` or `'Night'`.  This should default to day if nothing is entered for `time` \n",
    "\n",
    "This function should:\n",
    "\n",
    "* Feed only the non-nocturnal animals if `time='Day'`, or only the nocturnal animals if `time='Night'`\n",
    "* Check the food type of each animal before feeding.  If the animal is a carnivore, feed it `'meat'`; otherwise, feed it `'plants'`. Feed the animals by using their `.eat()` method "
   ]
  },
  {
   "cell_type": "code",
   "execution_count": 8,
   "metadata": {},
   "outputs": [],
   "source": [
    "def feed_animals(zoo, time='Day'):\n",
    "    if time!='Night' and time!='Day':\n",
    "        print(f\"{time}-time is not a valid time of day, therefore no animal will be fed!\")\n",
    "        return\n",
    "        \n",
    "    for _, animal in enumerate(zoo):\n",
    "        s_animal_id = f\"{animal.name} the {animal.species}\"\n",
    "        food = 'meat' if animal.food_type=='carnivore' else 'plants'\n",
    "        s_does_not_eat = f\"It's {time}-time but {s_animal_id} is {'not ' if not animal.nocturnal else ''}nocturnal and therefore will not be fed at this time.\"\n",
    "        if (time=='Night' and animal.nocturnal==True) or (time=='Day' and animal.nocturnal==False):\n",
    "            print(animal.eat(food))\n",
    "        else:\n",
    "            print(s_does_not_eat)\n",
    "            continue"
   ]
  },
  {
   "cell_type": "markdown",
   "metadata": {},
   "source": [
    "Now, test out your program.  Call the function for a daytime feeding below."
   ]
  },
  {
   "cell_type": "code",
   "execution_count": 9,
   "metadata": {},
   "outputs": [
    {
     "name": "stdout",
     "output_type": "stream",
     "text": [
      "Biggy Smalls the elephant thinks plants is yummy!\n",
      "Little Biggy the elephant thinks plants is yummy!\n",
      "It's Day-time but Mr. Restless the raccoon is nocturnal and therefore will not be fed at this time.\n",
      "It's Day-time but The Spaz the raccoon is nocturnal and therefore will not be fed at this time.\n",
      "Precious the gorilla thinks plants is yummy!\n",
      "It's Day-time but Tony the tiger is nocturnal and therefore will not be fed at this time.\n",
      "It's Day-time but Shere Khan the tiger is nocturnal and therefore will not be fed at this time.\n",
      "It's Day-time but Pepper the tiger is nocturnal and therefore will not be fed at this time.\n"
     ]
    }
   ],
   "source": [
    "feed_animals(zoo)"
   ]
  },
  {
   "cell_type": "markdown",
   "metadata": {},
   "source": [
    "If the elephants and gorrillas were fed then things should be good!\n",
    "\n",
    "In the cell below, call `feed_animals()` again, but this time set `time='Night'`"
   ]
  },
  {
   "cell_type": "code",
   "execution_count": 10,
   "metadata": {},
   "outputs": [
    {
     "name": "stdout",
     "output_type": "stream",
     "text": [
      "It's Night-time but Biggy Smalls the elephant is not nocturnal and therefore will not be fed at this time.\n",
      "It's Night-time but Little Biggy the elephant is not nocturnal and therefore will not be fed at this time.\n",
      "Mr. Restless the raccoon thinks plants is yummy!\n",
      "The Spaz the raccoon thinks plants is yummy!\n",
      "It's Night-time but Precious the gorilla is not nocturnal and therefore will not be fed at this time.\n",
      "Tony the tiger thinks meat is yummy!\n",
      "Shere Khan the tiger thinks meat is yummy!\n",
      "Pepper the tiger thinks meat is yummy!\n"
     ]
    }
   ],
   "source": [
    "feed_animals(zoo, time='Night')"
   ]
  },
  {
   "cell_type": "markdown",
   "metadata": {},
   "source": [
    "That's it! You've used OOP and inheritance to build a working program to help the zookeeper feed his animals with right food at the correct times!\n",
    "\n",
    "## Summary\n",
    "\n",
    "In this lab, you modeled a zoo and learned how to use inheritance to write nonredundant code, used subclasses and superclasses, and create a domain model using OOP."
   ]
  }
 ],
 "metadata": {
  "kernelspec": {
   "display_name": "Python [conda env:learn-env] *",
   "language": "python",
   "name": "conda-env-learn-env-py"
  },
  "language_info": {
   "codemirror_mode": {
    "name": "ipython",
    "version": 3
   },
   "file_extension": ".py",
   "mimetype": "text/x-python",
   "name": "python",
   "nbconvert_exporter": "python",
   "pygments_lexer": "ipython3",
   "version": "3.6.10"
  }
 },
 "nbformat": 4,
 "nbformat_minor": 2
}
